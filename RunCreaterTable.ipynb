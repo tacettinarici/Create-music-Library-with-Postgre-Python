{
 "cells": [
  {
   "cell_type": "code",
   "execution_count": 1,
   "metadata": {
    "editable": true
   },
   "outputs": [],
   "source": [
    "!python create_tables.py"
   ]
  },
  {
   "cell_type": "code",
   "execution_count": 2,
   "metadata": {
    "editable": true
   },
   "outputs": [
    {
     "name": "stdout",
     "output_type": "stream",
     "text": [
      "78 files found in data/song_data\n",
      "1/78 files processed.\n",
      "2/78 files processed.\n",
      "3/78 files processed.\n",
      "4/78 files processed.\n",
      "5/78 files processed.\n",
      "6/78 files processed.\n",
      "7/78 files processed.\n",
      "8/78 files processed.\n",
      "9/78 files processed.\n",
      "10/78 files processed.\n",
      "11/78 files processed.\n",
      "12/78 files processed.\n",
      "13/78 files processed.\n",
      "14/78 files processed.\n",
      "15/78 files processed.\n",
      "16/78 files processed.\n",
      "17/78 files processed.\n",
      "18/78 files processed.\n",
      "19/78 files processed.\n",
      "20/78 files processed.\n",
      "21/78 files processed.\n",
      "22/78 files processed.\n",
      "23/78 files processed.\n",
      "24/78 files processed.\n",
      "25/78 files processed.\n",
      "26/78 files processed.\n",
      "27/78 files processed.\n",
      "28/78 files processed.\n",
      "29/78 files processed.\n",
      "30/78 files processed.\n",
      "31/78 files processed.\n",
      "32/78 files processed.\n",
      "33/78 files processed.\n",
      "34/78 files processed.\n",
      "35/78 files processed.\n",
      "36/78 files processed.\n",
      "37/78 files processed.\n",
      "38/78 files processed.\n",
      "39/78 files processed.\n",
      "40/78 files processed.\n",
      "41/78 files processed.\n",
      "42/78 files processed.\n",
      "43/78 files processed.\n",
      "44/78 files processed.\n",
      "45/78 files processed.\n",
      "46/78 files processed.\n",
      "47/78 files processed.\n",
      "48/78 files processed.\n",
      "49/78 files processed.\n",
      "50/78 files processed.\n",
      "51/78 files processed.\n",
      "52/78 files processed.\n",
      "53/78 files processed.\n",
      "54/78 files processed.\n",
      "55/78 files processed.\n",
      "56/78 files processed.\n",
      "57/78 files processed.\n",
      "58/78 files processed.\n",
      "59/78 files processed.\n",
      "60/78 files processed.\n",
      "61/78 files processed.\n",
      "62/78 files processed.\n",
      "63/78 files processed.\n",
      "64/78 files processed.\n",
      "65/78 files processed.\n",
      "66/78 files processed.\n",
      "67/78 files processed.\n",
      "68/78 files processed.\n",
      "69/78 files processed.\n",
      "70/78 files processed.\n",
      "71/78 files processed.\n",
      "72/78 files processed.\n",
      "73/78 files processed.\n",
      "74/78 files processed.\n",
      "75/78 files processed.\n",
      "76/78 files processed.\n",
      "77/78 files processed.\n",
      "78/78 files processed.\n",
      "31 files found in data/log_data\n",
      "1/31 files processed.\n",
      "2/31 files processed.\n",
      "3/31 files processed.\n",
      "4/31 files processed.\n",
      "5/31 files processed.\n",
      "6/31 files processed.\n",
      "7/31 files processed.\n",
      "8/31 files processed.\n",
      "9/31 files processed.\n",
      "10/31 files processed.\n",
      "11/31 files processed.\n",
      "12/31 files processed.\n",
      "13/31 files processed.\n",
      "14/31 files processed.\n",
      "15/31 files processed.\n",
      "16/31 files processed.\n",
      "17/31 files processed.\n",
      "18/31 files processed.\n",
      "19/31 files processed.\n",
      "20/31 files processed.\n",
      "21/31 files processed.\n",
      "22/31 files processed.\n",
      "23/31 files processed.\n",
      "24/31 files processed.\n",
      "25/31 files processed.\n",
      "26/31 files processed.\n",
      "27/31 files processed.\n",
      "28/31 files processed.\n",
      "29/31 files processed.\n",
      "30/31 files processed.\n",
      "31/31 files processed.\n"
     ]
    }
   ],
   "source": [
    "!python etl.py"
   ]
  },
  {
   "cell_type": "code",
   "execution_count": null,
   "metadata": {
    "editable": true
   },
   "outputs": [],
   "source": [
    "AR8IEZO1187B99055E\n",
    "SOINLJW12A8C13314C"
   ]
  }
 ],
 "metadata": {
  "kernelspec": {
   "display_name": "Python 3",
   "language": "python",
   "name": "python3"
  },
  "language_info": {
   "codemirror_mode": {
    "name": "ipython",
    "version": 3
   },
   "file_extension": ".py",
   "mimetype": "text/x-python",
   "name": "python",
   "nbconvert_exporter": "python",
   "pygments_lexer": "ipython3",
   "version": "3.6.3"
  }
 },
 "nbformat": 4,
 "nbformat_minor": 4
}
